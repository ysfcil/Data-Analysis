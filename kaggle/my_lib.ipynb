{
 "cells": [
  {
   "cell_type": "code",
   "execution_count": 1,
   "metadata": {},
   "outputs": [],
   "source": [
    "import seaborn as sns\n",
    "import numpy as np\n",
    "import pandas as pd\n",
    "import matplotlib.pyplot as plt"
   ]
  },
  {
   "cell_type": "code",
   "execution_count": null,
   "metadata": {},
   "outputs": [],
   "source": [
    "def numeric_plot(df, df_numeric):\n",
    "    for f in df_numeric:\n",
    "        fig, (ax_box, ax_hist) = plt.subplots(2, sharex=True, gridspec_kw={\"height_ratios\": (0.15, 0.85)})\n",
    "        ax_box.grid(alpha=0.75)\n",
    "        ax_hist.grid(alpha=0.75)\n",
    "        flierprops = dict(\n",
    "            markerfacecolor=\"r\", markersize=2, linestyle=\"none\", markeredgecolor=\"r\"\n",
    "        )\n",
    "        sns.boxplot(df[f], orient=\"h\", ax=ax_box, flierprops=flierprops)\n",
    "        sns.histplot(df[f], ax=ax_hist, bins=50, kde=True)\n",
    "\n",
    "        # Remove x axis name for the boxplot\n",
    "        ax_box.set(xlabel=\"\")\n",
    "        plt.show()\n",
    "        \n",
    "def clean_outliers(df, df_numeric):\n",
    "    print(len(df))\n",
    "    for f in df_numeric:\n",
    "        q1 = df[f].quantile(0.25)\n",
    "        q3 = df[f].quantile(0.75)\n",
    "        iqr = q3 - q1\n",
    "        upper_limit = q3 + iqr *1.5\n",
    "        lower_limit = q1 - iqr *1.5\n",
    "        new_df = df.loc[((df[f]<upper_limit) & (df[f]>lower_limit))]\n",
    "    print(len(new_df), len(df)-len(new_df))\n",
    "    df = new_df\n",
    "\n",
    "def random_search_cv(x_train, y_train, x_test, y_test, model_params):\n",
    "    from sklearn.model_selection import ShuffleSplit\n",
    "    from sklearn.model_selection import RandomizedSearchCV\n",
    "    from sklearn.metrics import r2_score\n",
    "    scores = []\n",
    "    cv = ShuffleSplit(n_splits=5, test_size=0.2, random_state=0)\n",
    "    for model_name, mp in model_params.items():\n",
    "        clf =  RandomizedSearchCV(mp['model'], mp['params'], return_train_score=False ,n_iter = 10, cv = cv, verbose=2, random_state=42, scoring=r2_score)\n",
    "        clf.fit(x_train, y_train)\n",
    "        y_predd = clf.predict(x_test)\n",
    "        scores.append({\n",
    "            'model': model_name,\n",
    "            'best_score': r2_score(y_test, y_predd),\n",
    "            'best_params': clf.best_params_\n",
    "        })  \n",
    "    df_2 = pd.DataFrame(scores,columns=['model','best_score','best_params'])\n",
    "    df_2\n"
   ]
  }
 ],
 "metadata": {
  "kernelspec": {
   "display_name": "Python 3",
   "language": "python",
   "name": "python3"
  },
  "language_info": {
   "codemirror_mode": {
    "name": "ipython",
    "version": 3
   },
   "file_extension": ".py",
   "mimetype": "text/x-python",
   "name": "python",
   "nbconvert_exporter": "python",
   "pygments_lexer": "ipython3",
   "version": "3.10.11"
  }
 },
 "nbformat": 4,
 "nbformat_minor": 2
}
