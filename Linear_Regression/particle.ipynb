{
 "cells": [
  {
   "cell_type": "code",
   "execution_count": 60,
   "metadata": {},
   "outputs": [],
   "source": [
    "import numpy as np\n",
    "import matplotlib.pyplot as plt\n",
    "import seaborn as sns"
   ]
  },
  {
   "cell_type": "code",
   "execution_count": 61,
   "metadata": {},
   "outputs": [],
   "source": [
    "c = 3 * pow(10, 8)\n",
    "def time_space_lightlike(v):\n",
    "    g_mu = [1,-1,-1,-1]\n",
    "    v_new = (v*v)*g_mu\n",
    "    v_new = np.sum(v_new)\n",
    "    dummy = v_new\n",
    "    v_new = np.where((i > 0.0 for i in v_new), \"timelike\", dummy)\n",
    "    v_new = np.where((i < 0.0 for i in v_new), \"spacelike\", \"lightlike\")\n",
    "    return v_new\n",
    "def gamma(velocity):\n",
    "    beta = velocity/c\n",
    "    gamma_ = 1/np.sqrt(1-(beta**2))\n",
    "    return gamma_\n",
    "\n",
    "\n"
   ]
  },
  {
   "cell_type": "code",
   "execution_count": 62,
   "metadata": {},
   "outputs": [
    {
     "ename": "TypeError",
     "evalue": "'numpy.int32' object is not iterable",
     "output_type": "error",
     "traceback": [
      "\u001b[1;31m---------------------------------------------------------------------------\u001b[0m",
      "\u001b[1;31mTypeError\u001b[0m                                 Traceback (most recent call last)",
      "Cell \u001b[1;32mIn[62], line 2\u001b[0m\n\u001b[0;32m      1\u001b[0m vector \u001b[38;5;241m=\u001b[39m np\u001b[38;5;241m.\u001b[39marray([\u001b[38;5;241m4\u001b[39m, \u001b[38;5;241m5\u001b[39m, \u001b[38;5;241m0\u001b[39m, \u001b[38;5;241m0\u001b[39m])\n\u001b[1;32m----> 2\u001b[0m \u001b[43mtime_space_lightlike\u001b[49m\u001b[43m(\u001b[49m\u001b[43mvector\u001b[49m\u001b[43m)\u001b[49m\n",
      "Cell \u001b[1;32mIn[61], line 7\u001b[0m, in \u001b[0;36mtime_space_lightlike\u001b[1;34m(v)\u001b[0m\n\u001b[0;32m      5\u001b[0m v_new \u001b[38;5;241m=\u001b[39m np\u001b[38;5;241m.\u001b[39msum(v_new)\n\u001b[0;32m      6\u001b[0m dummy \u001b[38;5;241m=\u001b[39m v_new\n\u001b[1;32m----> 7\u001b[0m v_new \u001b[38;5;241m=\u001b[39m np\u001b[38;5;241m.\u001b[39mwhere((i \u001b[38;5;241m>\u001b[39m \u001b[38;5;241m0.0\u001b[39m \u001b[38;5;28;01mfor\u001b[39;00m i \u001b[38;5;129;01min\u001b[39;00m v_new), \u001b[38;5;124m\"\u001b[39m\u001b[38;5;124mtimelike\u001b[39m\u001b[38;5;124m\"\u001b[39m, dummy)\n\u001b[0;32m      8\u001b[0m v_new \u001b[38;5;241m=\u001b[39m np\u001b[38;5;241m.\u001b[39mwhere((i \u001b[38;5;241m<\u001b[39m \u001b[38;5;241m0.0\u001b[39m \u001b[38;5;28;01mfor\u001b[39;00m i \u001b[38;5;129;01min\u001b[39;00m v_new), \u001b[38;5;124m\"\u001b[39m\u001b[38;5;124mspacelike\u001b[39m\u001b[38;5;124m\"\u001b[39m, \u001b[38;5;124m\"\u001b[39m\u001b[38;5;124mlightlike\u001b[39m\u001b[38;5;124m\"\u001b[39m)\n\u001b[0;32m      9\u001b[0m \u001b[38;5;28;01mreturn\u001b[39;00m v_new\n",
      "\u001b[1;31mTypeError\u001b[0m: 'numpy.int32' object is not iterable"
     ]
    }
   ],
   "source": [
    "vector = np.array([4, 5, 0, 0])\n",
    "time_space_lightlike(vector)"
   ]
  }
 ],
 "metadata": {
  "kernelspec": {
   "display_name": "Python 3",
   "language": "python",
   "name": "python3"
  },
  "language_info": {
   "codemirror_mode": {
    "name": "ipython",
    "version": 3
   },
   "file_extension": ".py",
   "mimetype": "text/x-python",
   "name": "python",
   "nbconvert_exporter": "python",
   "pygments_lexer": "ipython3",
   "version": "3.10.11"
  }
 },
 "nbformat": 4,
 "nbformat_minor": 2
}
